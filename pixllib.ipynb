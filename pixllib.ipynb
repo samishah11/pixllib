{
 "cells": [
  {
   "attachments": {},
   "cell_type": "markdown",
   "metadata": {},
   "source": [
    "## Download mask_rcnn_coco.h5 Model\n",
    "\n",
    "[here](https://pixellib.readthedocs.io/en/latest/Image_instance.html)"
   ]
  },
  {
   "cell_type": "code",
   "execution_count": null,
   "metadata": {},
   "outputs": [],
   "source": [
    "import pixellib\n",
    "from pixellib.instance import instance_segmentation\n"
   ]
  },
  {
   "cell_type": "code",
   "execution_count": 10,
   "metadata": {},
   "outputs": [],
   "source": [
    "\n",
    "seg = instance_segmentation()\n",
    "seg.load_model(\"mask_rcnn_coco.h5\")\n",
    "seg.segmentImage(\"12.jpg\", show_bboxes=True, output_image_name=\"output.jpg\",\n",
    "extract_segmented_objects= True, save_extracted_objects=True)"
   ]
  }
 ],
 "metadata": {
  "kernelspec": {
   "display_name": "base",
   "language": "python",
   "name": "python3"
  },
  "language_info": {
   "codemirror_mode": {
    "name": "ipython",
    "version": 3
   },
   "file_extension": ".py",
   "mimetype": "text/x-python",
   "name": "python",
   "nbconvert_exporter": "python",
   "pygments_lexer": "ipython3",
   "version": "3.10.9"
  },
  "orig_nbformat": 4
 },
 "nbformat": 4,
 "nbformat_minor": 2
}
